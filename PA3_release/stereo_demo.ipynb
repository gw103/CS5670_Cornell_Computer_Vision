{
 "cells": [
  {
   "cell_type": "code",
   "execution_count": null,
   "id": "69bb996f",
   "metadata": {},
   "outputs": [],
   "source": [
    "%pylab\n",
    "%matplotlib inline\n",
    "import utils\n",
    "import stereo_datasets\n"
   ]
  },
  {
   "cell_type": "code",
   "execution_count": null,
   "id": "893498ca",
   "metadata": {},
   "outputs": [],
   "source": [
    "dataset = stereo_datasets.get_dataset('Adirondacks')\n",
    "plt.figure(); plt.imshow(dataset['left'])\n",
    "plt.figure(); plt.imshow(dataset['right'])\n",
    "plt.figure(); plt.imshow(dataset['gt'])\n",
    "print(dataset['dmax'])"
   ]
  },
  {
   "cell_type": "code",
   "execution_count": null,
   "id": "e0d274ec",
   "metadata": {},
   "outputs": [],
   "source": [
    "import stereo\n",
    "ncc_vol = stereo.compute_ncc_vol(dataset['right'], dataset['left'], 7, dataset['dmax'])\n"
   ]
  },
  {
   "cell_type": "code",
   "execution_count": null,
   "id": "343b6c50",
   "metadata": {},
   "outputs": [],
   "source": [
    "disparity = stereo.get_disparity(ncc_vol)"
   ]
  },
  {
   "cell_type": "code",
   "execution_count": null,
   "id": "52e024c1",
   "metadata": {},
   "outputs": [],
   "source": [
    "disparity = np.clip(disparity, 0, dataset['dmax'])\n",
    "plt.imshow(disparity)"
   ]
  },
  {
   "cell_type": "code",
   "execution_count": null,
   "id": "a63a61c5",
   "metadata": {},
   "outputs": [],
   "source": [
    "error_metric = stereo_datasets.evaluate(disparity, dataset['gt'])\n",
    "print(error_metric)"
   ]
  },
  {
   "cell_type": "code",
   "execution_count": null,
   "id": "443e254f",
   "metadata": {},
   "outputs": [],
   "source": [
    "dataset = stereo_datasets.get_dataset('Teddy')\n",
    "plt.figure(); plt.imshow(dataset['left'])\n",
    "plt.figure(); plt.imshow(dataset['right'])\n",
    "plt.figure(); plt.imshow(dataset['gt'])\n",
    "print(dataset['dmax'])"
   ]
  },
  {
   "cell_type": "code",
   "execution_count": null,
   "id": "31dc94b6",
   "metadata": {},
   "outputs": [],
   "source": [
    "ncc_vol = stereo.compute_ncc_vol(dataset['right'], dataset['left'], 15, dataset['dmax'])"
   ]
  },
  {
   "cell_type": "code",
   "execution_count": null,
   "id": "cd900aee",
   "metadata": {},
   "outputs": [],
   "source": [
    "disparity = stereo.get_disparity(ncc_vol)"
   ]
  },
  {
   "cell_type": "code",
   "execution_count": null,
   "id": "a3f3caa8",
   "metadata": {},
   "outputs": [],
   "source": [
    "disparity = np.clip(disparity, 0, dataset['dmax'])\n",
    "plt.imshow(disparity)"
   ]
  },
  {
   "cell_type": "code",
   "execution_count": null,
   "id": "e981e4c6",
   "metadata": {},
   "outputs": [],
   "source": [
    "error_metric = stereo_datasets.evaluate(disparity, dataset['gt'])\n",
    "print(error_metric)"
   ]
  },
  {
   "cell_type": "code",
   "execution_count": null,
   "id": "9ab33b82",
   "metadata": {},
   "outputs": [],
   "source": []
  }
 ],
 "metadata": {
  "kernelspec": {
   "display_name": "Python 3",
   "language": "python",
   "name": "python3"
  },
  "language_info": {
   "codemirror_mode": {
    "name": "ipython",
    "version": 3
   },
   "file_extension": ".py",
   "mimetype": "text/x-python",
   "name": "python",
   "nbconvert_exporter": "python",
   "pygments_lexer": "ipython3",
   "version": "3.8.8"
  }
 },
 "nbformat": 4,
 "nbformat_minor": 5
}
