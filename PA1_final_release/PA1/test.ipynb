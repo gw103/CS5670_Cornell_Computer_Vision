{
 "cells": [
  {
   "cell_type": "code",
   "execution_count": 31,
   "metadata": {},
   "outputs": [],
   "source": [
    "import numpy as np"
   ]
  },
  {
   "cell_type": "code",
   "execution_count": null,
   "metadata": {},
   "outputs": [
    {
     "data": {
      "text/plain": [
       "3"
      ]
     },
     "execution_count": 32,
     "metadata": {},
     "output_type": "execute_result"
    }
   ],
   "source": []
  },
  {
   "cell_type": "code",
   "execution_count": null,
   "metadata": {},
   "outputs": [],
   "source": []
  },
  {
   "cell_type": "code",
   "execution_count": 38,
   "metadata": {},
   "outputs": [],
   "source": [
    "import numpy as np\n",
    "\n",
    "def cross_correlation_2d(img, kernel):\n",
    "    '''Given a kernel of arbitrary m x n dimensions, with both m and n being\n",
    "    odd, compute the cross correlation of the given image with the given\n",
    "    kernel, such that the output is of the same dimensions as the image and that\n",
    "    you assume the pixels out of the bounds of the image to be zero. Note that\n",
    "    you need to apply the kernel to each channel separately, if the given image\n",
    "    is an RGB image.\n",
    "\n",
    "    Inputs:\n",
    "        img:    Either an RGB image (height x width x 3) or a grayscale image\n",
    "                (height x width) as a numpy array.\n",
    "        kernel: A 2D numpy array (m x n), with m and n both odd (but may not be\n",
    "                equal).\n",
    "\n",
    "    Output:\n",
    "        Return an image of the same dimensions as the input image (same width,\n",
    "        height and the number of color channels)\n",
    "    '''\n",
    "    \n",
    "    if img.ndim == 2:\n",
    "        h, w = img.shape\n",
    "        c = 1\n",
    "        padded_height = h + kernel.shape[0]\n",
    "        padded_width = w + kernel.shape[1]\n",
    "        img_padded = zero_pad(img, padded_height, padded_width)\n",
    "    else:\n",
    "        h, w, c = img.shape\n",
    "        padded_height = h + kernel.shape[0]\n",
    "        padded_width = w + kernel.shape[1]\n",
    "        img_padded = zero_pad(img, padded_height, padded_width)\n",
    "    new_img = np.zeros((h, w, c))\n",
    "    for i in range(h):\n",
    "        for j in range(w):\n",
    "            for k in range(c):\n",
    "                new_img[i, j, k] = np.sum(img_padded[i:i + kernel.shape[0], j:j + kernel.shape[1], k] * kernel)\n",
    "    return new_img\n",
    "    \n",
    "\n",
    "    # TODO-BLOCK-BEGIN\n",
    "    raise Exception(\"TODO in hybrid.py not implemented\")\n",
    "    # TODO-BLOCK-END\n",
    "def zero_pad(img, pad_height, pad_width):\n",
    "    if img.ndim == 2:\n",
    "        h, w = img.shape\n",
    "    else:\n",
    "        h, w, _ = img.shape\n",
    "    pad_height = pad_height - h\n",
    "    pad_width = pad_width - w\n",
    "    pad_top = pad_height // 2\n",
    "    pad_bottom = pad_height - pad_top\n",
    "    pad_left = pad_width // 2\n",
    "    pad_right = pad_width - pad_left\n",
    "\n",
    "    if img.ndim == 2:\n",
    "        top = np.zeros((pad_top, w))\n",
    "        bottom = np.zeros((pad_bottom, w))\n",
    "        left = np.zeros((h + pad_height, pad_left))\n",
    "        right = np.zeros((h + pad_height, pad_right))\n",
    "        padded = np.vstack((top, img, bottom))\n",
    "        padded = np.hstack((left, padded, right))\n",
    "\n",
    "    else:\n",
    "        top = np.zeros((pad_top, w, 3))\n",
    "        bottom = np.zeros((pad_bottom, w, 3))\n",
    "        left = np.zeros((h + pad_height, pad_left, 3))\n",
    "        right = np.zeros((h + pad_height, pad_right, 3))\n",
    "        padded = np.vstack((top, img, bottom))\n",
    "        padded = np.hstack((left, padded, right))\n",
    "    return padded\n"
   ]
  },
  {
   "cell_type": "code",
   "execution_count": 43,
   "metadata": {},
   "outputs": [
    {
     "data": {
      "text/plain": [
       "<matplotlib.image.AxesImage at 0x116e4e710>"
      ]
     },
     "execution_count": 43,
     "metadata": {},
     "output_type": "execute_result"
    },
    {
     "data": {
      "image/png": "[encoded data removed]",
      "text/plain": [
       "<Figure size 640x480 with 1 Axes>"
      ]
     },
     "metadata": {},
     "output_type": "display_data"
    }
   ],
   "source": [
    "img = np.random.rand(32, 32, 3)\n",
    "kernel = np.array([[1, 0, 1], [0, 1, 0], [1, 0, 1]])\n",
    "cross_correlation_2d(img, kernel).shape\n",
    "import matplotlib.pyplot as plt\n",
    "plt.imshow(img)\n"
   ]
  },
  {
   "cell_type": "code",
   "execution_count": 44,
   "metadata": {},
   "outputs": [
    {
     "name": "stderr",
     "output_type": "stream",
     "text": [
      "Clipping input data to the valid range for imshow with RGB data ([0..1] for floats or [0..255] for integers). Got range [0.22840600846464476..4.498779316134033].\n"
     ]
    },
    {
     "data": {
      "text/plain": [
       "<matplotlib.image.AxesImage at 0x116e992d0>"
      ]
     },
     "execution_count": 44,
     "metadata": {},
     "output_type": "execute_result"
    },
    {
     "data": {
      "image/png": "[encoded data removed]",
      "text/plain": [
       "<Figure size 640x480 with 1 Axes>"
      ]
     },
     "metadata": {},
     "output_type": "display_data"
    }
   ],
   "source": [
    "plt.imshow(cross_correlation_2d(img, kernel))"
   ]
  }
 ],
 "metadata": {
  "kernelspec": {
   "display_name": "3.11.6",
   "language": "python",
   "name": "python3"
  },
  "language_info": {
   "codemirror_mode": {
    "name": "ipython",
    "version": 3
   },
   "file_extension": ".py",
   "mimetype": "text/x-python",
   "name": "python",
   "nbconvert_exporter": "python",
   "pygments_lexer": "ipython3",
   "version": "3.11.6"
  }
 },
 "nbformat": 4,
 "nbformat_minor": 2
}
